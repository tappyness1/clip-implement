{
 "cells": [
  {
   "cell_type": "code",
   "execution_count": 1,
   "metadata": {},
   "outputs": [],
   "source": [
    "%load_ext autoreload\n",
    "%autoreload 2\n",
    "import sys\n",
    "sys.path.append(\"..\")\n",
    "\n",
    "from src.model import CLIP\n",
    "from src.dataset import UnsplashDataset\n",
    "from torch.utils.data import DataLoader\n",
    "from transformers import DistilBertTokenizer\n",
    "from src.loss_function import symmetric_loss\n"
   ]
  },
  {
   "cell_type": "code",
   "execution_count": 2,
   "metadata": {},
   "outputs": [],
   "source": [
    "tokenizer = DistilBertTokenizer.from_pretrained(\"distilbert-base-uncased\")\n",
    "\n",
    "dataset = UnsplashDataset(tokenizer, \"../../data/unsplash/photos.tsv*\")\n",
    "train_loader = DataLoader(dataset, batch_size = 4, shuffle=True)    \n",
    "img, label = next(iter(train_loader))\n",
    "label = tokenizer(label, padding=True, truncation=True, max_length = 76, return_tensors=\"pt\")\n",
    "\n",
    "cfg = {'model':{\"projections\": 768}}\n",
    "clip_model = CLIP(cfg)\n",
    "img_emb, txt_emb, logits = clip_model(img, label)"
   ]
  },
  {
   "cell_type": "code",
   "execution_count": 8,
   "metadata": {},
   "outputs": [],
   "source": [
    "loss = symmetric_loss(logits)\n",
    "loss.backward()"
   ]
  }
 ],
 "metadata": {
  "kernelspec": {
   "display_name": "pytorch-cpu",
   "language": "python",
   "name": "python3"
  },
  "language_info": {
   "codemirror_mode": {
    "name": "ipython",
    "version": 3
   },
   "file_extension": ".py",
   "mimetype": "text/x-python",
   "name": "python",
   "nbconvert_exporter": "python",
   "pygments_lexer": "ipython3",
   "version": "3.8.18"
  }
 },
 "nbformat": 4,
 "nbformat_minor": 2
}
